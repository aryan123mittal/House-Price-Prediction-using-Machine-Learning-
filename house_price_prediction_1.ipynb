











#Load libraries
import numpy as np
import pandas as pd
import matplotlib.pyplot as plt
import seaborn as sns
import calendar

from pandas.api.types import CategoricalDtype

from sklearn.preprocessing import StandardScaler





train_data_path = r"C:\Users\008\Desktop\py\House Price Prediction Machine Learning End-To-End Project\data\train.csv"
test_data_path = r"C:\Users\008\Desktop\py\House Price Prediction Machine Learning End-To-End Project\data\test.csv"

df_train = pd.read_csv(train_data_path)
df_test = pd.read_csv(test_data_path)

print("Shape of train: ", df_train.shape)
print("Shape of test: ", df_test.shape)


pd.set_option("display.max_columns", None)
pd.set_option("display.max_rows", None)


df_train.head()


pd.set_option("display.max_columns", None)
pd.set_option("display.max_rows", None)


df_test.head()

















df = pd.concat((df_train, df_test))

print("Shape of Integrated Data / DF: ", df.shape)


df.head()


df.tail()





df.info()






int_features = df.select_dtypes(include=['int64']).columns
print("Total numbers of integer features : ",int_features.shape[0])

print("integer features name : ",int_features.tolist())


float_features = df.select_dtypes(include=['float64']).columns
print("Total numbers of float features : ",float_features.shape[0])

print("float features name : ",float_features.tolist())


cat_features = df.select_dtypes(include=['object']).columns
print("Total numbers of categorical features : " , cat_features.shape[0])

print("categorical features name : " , cat_features.tolist())








df.describe()


df.describe().shape





df["MSSubClass"]








plt.figure(figsize=(16,9))
sns.heatmap(df.isnull())
plt.savefig("EDA_img/heatmap_DF_of_null_values.png")





# set index as ID column
df = df.set_index("Id")


null_count = df.isnull().sum()
null_count


null_percent = df.isnull().sum()/df.shape[0] * 100
null_percent





"""As per domain knowledge we will not drop those features , instead None value will add constant value 'NA' """

miss_value_50_perc = null_percent[null_percent > 50]
miss_value_50_perc


df["Alley"].value_counts()


"""As per domain knowledge we will not drop FireplaceQu features , instead None value will add constant value 'NA' """


miss_value_20_50_perc = null_percent[(null_percent > 20) & (null_percent < 51)]
miss_value_20_50_perc



miss_value_5_20_perc = null_percent[(null_percent > 5) & (null_percent < 21)]
miss_value_5_20_perc


df["LotFrontage"].value_counts()


df["LotFrontage"].value_counts().head()


sns.heatmap(df[miss_value_5_20_perc.keys()].isnull())





miss_value_feat = null_percent[null_percent > 0]
print("Total missing value features = ",len(miss_value_feat))



miss_value_feat


cat_na_feat = miss_value_feat[miss_value_feat.keys().isin(cat_features)]
print("Total number of categorical misssing featurs = ",len(cat_na_feat))


cat_na_feat


int_na_feat = miss_value_feat[miss_value_feat.keys().isin(int_features)]
print("Total number of integer missing featurs = ",len(int_na_feat))
int_na_feat


float_na_feat = miss_value_feat[miss_value_feat.keys().isin(float_features)]
print("Total number of float missing featurs = ",len(float_na_feat))
float_na_feat





df["MSZoning"].value_counts()


sns.countplot(df["MSZoning"])


#backup of original data
df_mvi = df.copy()
df_mvi.shape


mszoning_mode = df["MSZoning"].mode()[0]
df_mvi["MSZoning"].replace(np.nan, mszoning_mode, inplace=True)
df_mvi["MSZoning"].isnull().sum()



def OldNewCountPlot(df,df_new,feature):
    plt.subplot(121)
    sns.countplot(df[feature])
    plt.title("Old data distribution")
    plt.subplot(122)
    sns.countplot(df_new[feature])
    plt.title("New data distribution")


OldNewCountPlot(df,df_mvi,"MSZoning")





df["Alley"].value_counts()


sns.countplot(df["Alley"])


alley_cont = "NA"
df_mvi["Alley"].replace(np.nan, alley_cont, inplace=True)
df_mvi["Alley"].isnull().sum()



OldNewCountPlot(df,df_mvi,"Alley")


#Handling LotFrontage 16.649538


def boxHistPlot(df,figsize=(16, 5)):
    plt.figure(figsize=figsize)
    plt.subplot(121)
    sns.boxplot(df)
    plt.subplot(122)
    sns.displot(df)


boxHistPlot(df["LotFrontage"])


lotlrontage_mean = df["LotFrontage"].mean()
df_mvi["LotFrontage"].replace(np.nan, lotlrontage_mean, inplace=True)
df_mvi["LotFrontage"].isnull().sum()



def OldNewBoxHistPlot(df,df_new,feature,figsize=(16,10)):
    plt.figure(figsize=figsize)
    plt.subplot(221)
    sns.boxplot(df[feature])
    plt.title("Old data distribution")
    plt.subplot(222)
    sns.histplot(df[feature])
    plt.title("Old data distribution")   
    plt.subplot(223)
    sns.boxplot(df_new[feature])
    plt.title("New data distribution")
    plt.subplot(224)
    sns.histplot(df_new[feature])
    plt.title("New data distribution")


OldNewBoxHistPlot(df,df_mvi,"LotFrontage")


# handling Utilities = 0.068517


df["Utilities"].value_counts()


utilities_mode = df["Utilities"].mode()[0]
df_mvi["Utilities"].replace(np.nan, utilities_mode, inplace=True)
df_mvi["Utilities"].isnull().sum()



# handling  Exterior1st = 0.034258 & Exterior2nd = 0.034258


df["Exterior1st"].value_counts()


df["Exterior2nd"].value_counts()


exterior1st_mode = df["Exterior1st"].mode()[0]
exterior2nd_mode = df["Exterior2nd"].mode()[0]
df_mvi["Exterior1st"].replace(np.nan, exterior1st_mode,inplace=True)
df_mvi["Exterior2nd"].replace(np.nan, exterior2nd_mode,inplace=True)
print("E1st is null : ",df_mvi["Exterior1st"].isnull().sum())
print("E1st is null : ",df_mvi["Exterior2nd"].isnull().sum())


#Handling MasVnrType      60.500171  MasVnrArea       0.787941


sns.heatmap(df[["MasVnrType","MasVnrArea"]].isnull())


df[df[["MasVnrType","MasVnrArea"]].isnull().any(axis=1)]


df["MasVnrType"].value_counts()


masvnrtype_mode = df["MasVnrType"].mode()[0]
df_mvi["MasVnrType"].replace(np.nan, masvnrtype_mode,inplace=True)
df_mvi["MasVnrType"].isnull().sum()


boxHistPlot(df["MasVnrArea"])


masvnrarea_cont = 0
df_mvi["MasVnrArea"].replace(np.nan, masvnrarea_cont,inplace=True)
df_mvi["MasVnrArea"].isnull().sum()


#handling basement





cat_bsmt_feat =[
"BsmtQual",         
"BsmtCond",        
"BsmtExposure",    
"BsmtFinType1",     
"BsmtFinType2"]     


num_bsmt_feat =[
"BsmtFinSF1",       
"BsmtFinSF2",       
"BsmtUnfSF",        
"TotalBsmtSF",      
"BsmtFullBath",     
"BsmtHalfBath"]     


sns.heatmap(df[cat_bsmt_feat].isnull())


for feat in cat_bsmt_feat:
    print(f"Value count of {feat}: {df[feat].value_counts()}")


bsmt_cont="NA"
for feat in cat_bsmt_feat:
    df_mvi[feat].replace(np.nan,bsmt_cont,inplace=True)


df_mvi[cat_bsmt_feat].isnull().sum()


sns.heatmap(df[num_bsmt_feat].isnull())


df_bsmt = df[cat_bsmt_feat + num_bsmt_feat]
df_bsmt[df_bsmt.isnull().any(axis=1)]


bsmt_num = 0
for feat in num_bsmt_feat:
    df_mvi[feat].replace(np.nan,bsmt_num,inplace=True)
    
df_mvi[num_bsmt_feat].isnull().sum()


# handling   Electrical       0.034258   &   KitchenQual      0.034258


df["Electrical"].value_counts()


df["KitchenQual"].value_counts()


df_ekk = df[["Electrical","KitchenQual","KitchenAbvGr"]]
df_ekk[df_ekk.isnull().any(axis=1)]


electrical_mode = df["Electrical"].mode()[0]
df_mvi["Electrical"].replace(np.nan,electrical_mode,inplace=True)
df_mvi["Electrical"].isnull().sum()


kitchenqual_mode = df["KitchenQual"].mode()[0]
df_mvi["KitchenQual"].replace(np.nan, kitchenqual_mode,inplace=True)
df_mvi["KitchenQual"].isnull().sum()


#handling remaning cat features





df["Functional"].value_counts()


df["SaleType"].value_counts()


functional_mode = df["Functional"].mode()[0]
df_mvi["Functional"].replace(np.nan,functional_mode,inplace=True)
df_mvi["Functional"].isnull().sum()


saletype_mode = df["SaleType"].mode()[0]
df_mvi["SaleType"].replace(np.nan, saletype_mode,inplace=True)
df_mvi["SaleType"].isnull().sum()


other_cat_feat =["FireplaceQu",      
"PoolQC",          
"Fence",          
"MiscFeature"]

for feat in other_cat_feat:
    print(f"Value count of {feat}: {df[feat].value_counts()}")


fireplacequ_cont = "NA"
df_mvi["FireplaceQu"].replace(np.nan, fireplacequ_cont,inplace=True)
df_mvi["FireplaceQu"].isnull().sum()


poolqc_cont = "NA"
df_mvi["PoolQC"].replace(np.nan, poolqc_cont,inplace=True)
df_mvi["PoolQC"].isnull().sum()


fence_cont = "NA"
df_mvi["Fence"].replace(np.nan, fence_cont,inplace=True)
df_mvi["Fence"].isnull().sum()


miscfeature_cont = "NA"
df_mvi["MiscFeature"].replace(np.nan, miscfeature_cont,inplace=True)
df_mvi["MiscFeature"].isnull().sum()





#Handling Garage Features


cat_garage_feat = ["GarageType","GarageFinish","GarageQual","GarageCond"]
num_garage_feat = ["GarageYrBlt","GarageCars","GarageArea"]

df_garafe = df[num_garage_feat + cat_garage_feat]
df_garafe[df_garafe.isnull().any(axis=1)]


garage_cont = "NA"
for feat in cat_garage_feat:
    df_mvi[feat].replace(np.nan, garage_cont,inplace=True)
    
df_mvi[cat_garage_feat].isnull().sum()


garage_num = 0
for feat in num_garage_feat:
    df_mvi[feat].replace(np.nan, garage_cont,inplace=True)
    
df_mvi[num_garage_feat].isnull().sum()


df_mvi.isnull().any(axis=1).sum()


##Feature Transformation
### convert numerical feature to categorical feature


for_num_conv = ["MSSubClass" , "YearBuilt" , "YearRemodAdd" , "GarageYrBlt" , "MoSold" ,"YrSold"]
for feat in for_num_conv:
    print(f"{feat}: data type = {df_mvi[feat].dtype}")


df_mvi[for_num_conv].head()


df_mvi["MoSold"].value_counts()


df_mvi["MoSold"].unique()


calendar.month_abbr[12]


df_mvi["MoSold"] = df_mvi["MoSold"].apply(lambda x : calendar.month_abbr[x])
df_mvi["MoSold"].unique()


for feat in for_num_conv:
    df_mvi[feat] = df_mvi[feat].astype(str)


for feat in for_num_conv:
    print(f"{feat}: data type = {df_mvi[feat].dtype}")


##Feature Transformation
### convert categorical feature to numerical feature
#### Ordinal Encoding


ordinal_end_var = [
"ExterQual",
"ExterCond",
"BsmtQual",
"BsmtCond",
"BsmtExposure",
"BsmtFinType1",
"BsmtFinSF1",
"BsmtFinType2",
"HeatingQC",
"KitchenQual",
"FireplaceQu",
"GarageQual",
"GarageCond",
"PoolQC",
"Functional",
"GarageFinish",
"PavedDrive",
"Utilities"
]

print("total number of faetures to convert ordinal numerical format : ",len(ordinal_end_var))


df_mvi["ExterQual"].value_counts()



df_mvi["ExterQual"] = df_mvi["ExterQual"].astype(CategoricalDtype(categories=["Po","Fa","TA","Gd","Ex"], ordered=True)).cat.codes


df_mvi["ExterQual"].value_counts()


df_mvi["BsmtExposure"].value_counts()


df_mvi["BsmtExposure"] = df_mvi["BsmtExposure"].astype(CategoricalDtype(categories=["NA","No","Mn","Av","Gd"], ordered=True)).cat.codes


df_mvi["BsmtExposure"].value_counts()


df_mvi["ExterCond"] = df_mvi["ExterCond"].astype(CategoricalDtype(categories=["Po","Fa","TA","Gd","Ex"], ordered=True)).cat.codes
df_mvi["BsmtQual"] = df_mvi["BsmtQual"].astype(CategoricalDtype(categories=["NA","Po","Fa","TA","Gd","Ex"], ordered=True)).cat.codes
df_mvi["BsmtCond"] = df_mvi["BsmtCond"].astype(CategoricalDtype(categories=["NA","Po","Fa","TA","Gd","Ex"], ordered=True)).cat.codes
df_mvi["BsmtFinType1"] = df_mvi["BsmtFinType1"].astype(CategoricalDtype(categories=["NA","Unf","LwQ","Rec","BLQ","ALQ","GLQ"], ordered=True)).cat.codes
df_mvi["BsmtFinType2"] = df_mvi["BsmtFinType2"].astype(CategoricalDtype(categories=["NA","Unf","LwQ","Rec","BLQ","ALQ","GLQ"], ordered=True)).cat.codes
df_mvi["HeatingQC"] = df_mvi["HeatingQC"].astype(CategoricalDtype(categories=["Po","Fa","TA","Gd","Ex"], ordered=True)).cat.codes
df_mvi["KitchenQual"] = df_mvi["KitchenQual"].astype(CategoricalDtype(categories=["Po","Fa","TA","Gd","Ex"], ordered=True)).cat.codes
df_mvi["FireplaceQu"] = df_mvi["FireplaceQu"].astype(CategoricalDtype(categories=["NA","Po","Fa","TA","Gd","Ex"], ordered=True)).cat.codes
df_mvi["GarageQual"] = df_mvi["GarageQual"].astype(CategoricalDtype(categories=["NA","Po","Fa","TA","Gd","Ex"], ordered=True)).cat.codes
df_mvi["GarageCond"] = df_mvi["GarageCond"].astype(CategoricalDtype(categories=["NA","Po","Fa","TA","Gd","Ex"], ordered=True)).cat.codes
df_mvi["PoolQC"] = df_mvi["PoolQC"].astype(CategoricalDtype(categories=["NA","Fa","TA","Gd","Ex"], ordered=True)).cat.codes
df_mvi["Functional"] = df_mvi["Functional"].astype(CategoricalDtype(categories=["Sal","Sev","Maj2","Maj1","Mod","Min2","Min1","Typ"], ordered=True)).cat.codes
df_mvi["GarageFinish"] = df_mvi["GarageFinish"].astype(CategoricalDtype(categories=["NA","Unf","RFn","Fin"], ordered=True)).cat.codes
df_mvi["PavedDrive"] = df_mvi["PavedDrive"].astype(CategoricalDtype(categories=["N","P","Y"], ordered=True)).cat.codes
df_mvi["Utilities"] = df_mvi["Utilities"].astype(CategoricalDtype(categories=["ELO","NASeWa","NASeWr","AllPub"], ordered=True)).cat.codes



df_mvi.info()


#One Hot Encoding for Norminal Categorical data


df_encod = df_mvi.copy()

object_features = df_encod.select_dtypes(include="object").columns.tolist()
print("Total object data type features : ",len(object_features))

print("Features \n",object_features)


df_encod[object_features].head(2)


print("Shape of DF before encoding : ",df_encod.shape)

df_encod = pd.get_dummies(df_encod, 
                          columns=object_features,
                          prefix=object_features,
                          drop_first=True)
print("Shape of DF after encoding : ",df_encod.shape)



df_encod.head(2)


df_encod.select_dtypes(include="object").columns.tolist()





#split data for training and testing


df_encod.shape


len_train = df_train.shape[0]
len_train


X_train = df_encod[:len_train].drop("SalePrice", axis=1)
y_train = df_encod["SalePrice"][:len_train]
X_test = df_encod[:len_train].drop("SalePrice", axis=1)

print("Shape of X_train data : ",X_train.shape)
print("Shape of y_train data : ",y_train.shape)
print("Shape of X_test data : ",X_test.shape)


#feature scaling


sc = StandardScaler()
sc.fit(X_train)

#Formula : z=(x-u)/s

X_train = sc.transform(X_train)
X_test = sc.transform(X_test)


X_train[:3,:]


X_test[:3,:]











# Train ML Model


!pip install xgboost



from sklearn.svm import SVR
from sklearn.linear_model import LinearRegression
from sklearn.linear_model import SGDRegressor
from sklearn.neighbors import KNeighborsRegressor
from sklearn.gaussian_process import GaussianProcessRegressor
from sklearn.tree import DecisionTreeRegressor

from sklearn.ensemble import GradientBoostingRegressor
from sklearn.ensemble import RandomForestRegressor
from sklearn.isotonic import IsotonicRegression

from sklearn.neural_network import MLPRegressor

from xgboost import XGBRegressor


svr = SVR()
lr = LinearRegression()
sgdr = SGDRegressor()
knr = KNeighborsRegressor()
gpr = GaussianProcessRegressor()
dtr = DecisionTreeRegressor()
gbr = GradientBoostingRegressor()
rfr = RandomForestRegressor()
ir = IsotonicRegression()
mlpr = MLPRegressor()
xgbr = XGBRegressor()



models = { "a":["LinearRegression",lr],
          "b":["SGDRegressor",sgdr],
          "c":["KNeighborsRegressor",knr],
          "d":["GaussianProcessRegressor",gpr],
          "e":["DecisionTreeRegressor",dtr],
          "f":["GradientBoostingRegressor",gbr],
          "g":["RandomForestRegressor",rfr],
          "h":["IsotonicRegression",ir],
          "i":["MLPRegressor",mlpr],
          "j":["XGBRegressor",xgbr],
          "k":["SVR",svr]
    
}


from sklearn.model_selection import KFold, cross_val_score
from sklearn.metrics import make_scorer, r2_score

def test_model(model, X_train, y_train):
    CV = KFold(n_splits=7, shuffle=True, random_state=45)
    r2 = make_scorer(r2_score)
    r2_val_score = cross_val_score(model, X_train, y_train, cv=CV, scoring=r2)
    score = [r2_val_score.mean()]  # Initialize and assign the score
    return score



models_score = []
for model in models:
    print("Training model : ", models [model][0])
    score = test_model(models [model][1], X_train, y_train)
    print("Score of model : ", score)
    models_score.append([models[model][0], score[0]])


models_score


models_score1 = []
for model in models:
    print("Training model:", models[model][0])  # Print the model name
    try:
        score = test_model(models[model][1], X_train, y_train)
        print("Score of model:", score)
        models_score.append([models[model][0], score[0]])
    except Exception as e:
        print(f"Failed to train model {models[model][0]} due to: {e}")




